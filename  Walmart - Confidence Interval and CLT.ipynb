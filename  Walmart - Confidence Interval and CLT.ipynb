{
 "cells": [
  {
   "cell_type": "code",
   "execution_count": 1,
   "id": "69b39fc5",
   "metadata": {},
   "outputs": [],
   "source": [
    "import numpy as np \n",
    "import pandas as pd\n",
    "import matplotlib.pyplot as plt\n",
    "import seaborn as sns"
   ]
  },
  {
   "cell_type": "code",
   "execution_count": 2,
   "id": "f46d83fc",
   "metadata": {},
   "outputs": [
    {
     "data": {
      "text/html": [
       "<div>\n",
       "<style scoped>\n",
       "    .dataframe tbody tr th:only-of-type {\n",
       "        vertical-align: middle;\n",
       "    }\n",
       "\n",
       "    .dataframe tbody tr th {\n",
       "        vertical-align: top;\n",
       "    }\n",
       "\n",
       "    .dataframe thead th {\n",
       "        text-align: right;\n",
       "    }\n",
       "</style>\n",
       "<table border=\"1\" class=\"dataframe\">\n",
       "  <thead>\n",
       "    <tr style=\"text-align: right;\">\n",
       "      <th></th>\n",
       "      <th>User_ID</th>\n",
       "      <th>Product_ID</th>\n",
       "      <th>Gender</th>\n",
       "      <th>Age</th>\n",
       "      <th>Occupation</th>\n",
       "      <th>City_Category</th>\n",
       "      <th>Stay_In_Current_City_Years</th>\n",
       "      <th>Marital_Status</th>\n",
       "      <th>Product_Category</th>\n",
       "      <th>Purchase</th>\n",
       "    </tr>\n",
       "  </thead>\n",
       "  <tbody>\n",
       "    <tr>\n",
       "      <th>0</th>\n",
       "      <td>1000001</td>\n",
       "      <td>P00069042</td>\n",
       "      <td>F</td>\n",
       "      <td>0-17</td>\n",
       "      <td>10</td>\n",
       "      <td>A</td>\n",
       "      <td>2</td>\n",
       "      <td>0</td>\n",
       "      <td>3</td>\n",
       "      <td>8370</td>\n",
       "    </tr>\n",
       "    <tr>\n",
       "      <th>1</th>\n",
       "      <td>1000001</td>\n",
       "      <td>P00248942</td>\n",
       "      <td>F</td>\n",
       "      <td>0-17</td>\n",
       "      <td>10</td>\n",
       "      <td>A</td>\n",
       "      <td>2</td>\n",
       "      <td>0</td>\n",
       "      <td>1</td>\n",
       "      <td>15200</td>\n",
       "    </tr>\n",
       "    <tr>\n",
       "      <th>2</th>\n",
       "      <td>1000001</td>\n",
       "      <td>P00087842</td>\n",
       "      <td>F</td>\n",
       "      <td>0-17</td>\n",
       "      <td>10</td>\n",
       "      <td>A</td>\n",
       "      <td>2</td>\n",
       "      <td>0</td>\n",
       "      <td>12</td>\n",
       "      <td>1422</td>\n",
       "    </tr>\n",
       "    <tr>\n",
       "      <th>3</th>\n",
       "      <td>1000001</td>\n",
       "      <td>P00085442</td>\n",
       "      <td>F</td>\n",
       "      <td>0-17</td>\n",
       "      <td>10</td>\n",
       "      <td>A</td>\n",
       "      <td>2</td>\n",
       "      <td>0</td>\n",
       "      <td>12</td>\n",
       "      <td>1057</td>\n",
       "    </tr>\n",
       "    <tr>\n",
       "      <th>4</th>\n",
       "      <td>1000002</td>\n",
       "      <td>P00285442</td>\n",
       "      <td>M</td>\n",
       "      <td>55+</td>\n",
       "      <td>16</td>\n",
       "      <td>C</td>\n",
       "      <td>4+</td>\n",
       "      <td>0</td>\n",
       "      <td>8</td>\n",
       "      <td>7969</td>\n",
       "    </tr>\n",
       "  </tbody>\n",
       "</table>\n",
       "</div>"
      ],
      "text/plain": [
       "   User_ID Product_ID Gender   Age  Occupation City_Category  \\\n",
       "0  1000001  P00069042      F  0-17          10             A   \n",
       "1  1000001  P00248942      F  0-17          10             A   \n",
       "2  1000001  P00087842      F  0-17          10             A   \n",
       "3  1000001  P00085442      F  0-17          10             A   \n",
       "4  1000002  P00285442      M   55+          16             C   \n",
       "\n",
       "  Stay_In_Current_City_Years  Marital_Status  Product_Category  Purchase  \n",
       "0                          2               0                 3      8370  \n",
       "1                          2               0                 1     15200  \n",
       "2                          2               0                12      1422  \n",
       "3                          2               0                12      1057  \n",
       "4                         4+               0                 8      7969  "
      ]
     },
     "execution_count": 2,
     "metadata": {},
     "output_type": "execute_result"
    }
   ],
   "source": [
    "df = pd.read_csv(\"https://d2beiqkhq929f0.cloudfront.net/public_assets/assets/000/001/293/original/walmart_data.csv?1641285094\")\n",
    "df.head()"
   ]
  },
  {
   "cell_type": "code",
   "execution_count": 3,
   "id": "53f679b1",
   "metadata": {},
   "outputs": [
    {
     "name": "stdout",
     "output_type": "stream",
     "text": [
      "<class 'pandas.core.frame.DataFrame'>\n",
      "RangeIndex: 550068 entries, 0 to 550067\n",
      "Data columns (total 10 columns):\n",
      " #   Column                      Non-Null Count   Dtype \n",
      "---  ------                      --------------   ----- \n",
      " 0   User_ID                     550068 non-null  int64 \n",
      " 1   Product_ID                  550068 non-null  object\n",
      " 2   Gender                      550068 non-null  object\n",
      " 3   Age                         550068 non-null  object\n",
      " 4   Occupation                  550068 non-null  int64 \n",
      " 5   City_Category               550068 non-null  object\n",
      " 6   Stay_In_Current_City_Years  550068 non-null  object\n",
      " 7   Marital_Status              550068 non-null  int64 \n",
      " 8   Product_Category            550068 non-null  int64 \n",
      " 9   Purchase                    550068 non-null  int64 \n",
      "dtypes: int64(5), object(5)\n",
      "memory usage: 42.0+ MB\n"
     ]
    }
   ],
   "source": [
    "df.info()"
   ]
  },
  {
   "cell_type": "markdown",
   "id": "8d68d1be",
   "metadata": {},
   "source": [
    "Change the data types of - Occupation, Marital_Status, Product_Category"
   ]
  },
  {
   "cell_type": "code",
   "execution_count": 8,
   "id": "758b09df",
   "metadata": {},
   "outputs": [],
   "source": [
    "cols = ['Occupation', 'Marital_Status', 'Product_Category']\n",
    "df[cols] = df[cols].astype('object')"
   ]
  },
  {
   "cell_type": "code",
   "execution_count": 11,
   "id": "199017a5",
   "metadata": {},
   "outputs": [
    {
     "data": {
      "text/plain": [
       "User_ID                        int64\n",
       "Product_ID                    object\n",
       "Gender                        object\n",
       "Age                           object\n",
       "Occupation                    object\n",
       "City_Category                 object\n",
       "Stay_In_Current_City_Years    object\n",
       "Marital_Status                object\n",
       "Product_Category              object\n",
       "Purchase                       int64\n",
       "dtype: object"
      ]
     },
     "execution_count": 11,
     "metadata": {},
     "output_type": "execute_result"
    }
   ],
   "source": [
    "df.dtypes"
   ]
  },
  {
   "cell_type": "code",
   "execution_count": 12,
   "id": "72927fed",
   "metadata": {},
   "outputs": [
    {
     "data": {
      "text/plain": [
       "Index                             128\n",
       "User_ID                       4400544\n",
       "Product_ID                    4400544\n",
       "Gender                        4400544\n",
       "Age                           4400544\n",
       "Occupation                    4400544\n",
       "City_Category                 4400544\n",
       "Stay_In_Current_City_Years    4400544\n",
       "Marital_Status                4400544\n",
       "Product_Category              4400544\n",
       "Purchase                      4400544\n",
       "dtype: int64"
      ]
     },
     "execution_count": 12,
     "metadata": {},
     "output_type": "execute_result"
    }
   ],
   "source": [
    "df.memory_usage()"
   ]
  },
  {
   "cell_type": "code",
   "execution_count": 13,
   "id": "52a9ca95",
   "metadata": {},
   "outputs": [
    {
     "data": {
      "text/html": [
       "<div>\n",
       "<style scoped>\n",
       "    .dataframe tbody tr th:only-of-type {\n",
       "        vertical-align: middle;\n",
       "    }\n",
       "\n",
       "    .dataframe tbody tr th {\n",
       "        vertical-align: top;\n",
       "    }\n",
       "\n",
       "    .dataframe thead th {\n",
       "        text-align: right;\n",
       "    }\n",
       "</style>\n",
       "<table border=\"1\" class=\"dataframe\">\n",
       "  <thead>\n",
       "    <tr style=\"text-align: right;\">\n",
       "      <th></th>\n",
       "      <th>User_ID</th>\n",
       "      <th>Purchase</th>\n",
       "    </tr>\n",
       "  </thead>\n",
       "  <tbody>\n",
       "    <tr>\n",
       "      <th>count</th>\n",
       "      <td>5.500680e+05</td>\n",
       "      <td>550068.000000</td>\n",
       "    </tr>\n",
       "    <tr>\n",
       "      <th>mean</th>\n",
       "      <td>1.003029e+06</td>\n",
       "      <td>9263.968713</td>\n",
       "    </tr>\n",
       "    <tr>\n",
       "      <th>std</th>\n",
       "      <td>1.727592e+03</td>\n",
       "      <td>5023.065394</td>\n",
       "    </tr>\n",
       "    <tr>\n",
       "      <th>min</th>\n",
       "      <td>1.000001e+06</td>\n",
       "      <td>12.000000</td>\n",
       "    </tr>\n",
       "    <tr>\n",
       "      <th>25%</th>\n",
       "      <td>1.001516e+06</td>\n",
       "      <td>5823.000000</td>\n",
       "    </tr>\n",
       "    <tr>\n",
       "      <th>50%</th>\n",
       "      <td>1.003077e+06</td>\n",
       "      <td>8047.000000</td>\n",
       "    </tr>\n",
       "    <tr>\n",
       "      <th>75%</th>\n",
       "      <td>1.004478e+06</td>\n",
       "      <td>12054.000000</td>\n",
       "    </tr>\n",
       "    <tr>\n",
       "      <th>max</th>\n",
       "      <td>1.006040e+06</td>\n",
       "      <td>23961.000000</td>\n",
       "    </tr>\n",
       "  </tbody>\n",
       "</table>\n",
       "</div>"
      ],
      "text/plain": [
       "            User_ID       Purchase\n",
       "count  5.500680e+05  550068.000000\n",
       "mean   1.003029e+06    9263.968713\n",
       "std    1.727592e+03    5023.065394\n",
       "min    1.000001e+06      12.000000\n",
       "25%    1.001516e+06    5823.000000\n",
       "50%    1.003077e+06    8047.000000\n",
       "75%    1.004478e+06   12054.000000\n",
       "max    1.006040e+06   23961.000000"
      ]
     },
     "execution_count": 13,
     "metadata": {},
     "output_type": "execute_result"
    }
   ],
   "source": [
    "df.describe()"
   ]
  },
  {
   "cell_type": "code",
   "execution_count": 16,
   "id": "981cdfeb",
   "metadata": {},
   "outputs": [
    {
     "data": {
      "text/plain": [
       "User_ID                       0\n",
       "Product_ID                    0\n",
       "Gender                        0\n",
       "Age                           0\n",
       "Occupation                    0\n",
       "City_Category                 0\n",
       "Stay_In_Current_City_Years    0\n",
       "Marital_Status                0\n",
       "Product_Category              0\n",
       "Purchase                      0\n",
       "dtype: int64"
      ]
     },
     "execution_count": 16,
     "metadata": {},
     "output_type": "execute_result"
    }
   ],
   "source": [
    "# checking null values\n",
    "df.isnull().sum()"
   ]
  },
  {
   "cell_type": "markdown",
   "id": "9a5e0c9c",
   "metadata": {},
   "source": [
    "# Observations\n",
    "There are no missing values in the dataset.\n",
    "Purchase amount might have outliers."
   ]
  },
  {
   "cell_type": "markdown",
   "id": "715334f5",
   "metadata": {},
   "source": [
    "How many users are there in the dataset?"
   ]
  },
  {
   "cell_type": "code",
   "execution_count": 17,
   "id": "17c8cc16",
   "metadata": {},
   "outputs": [
    {
     "data": {
      "text/plain": [
       "5891"
      ]
     },
     "execution_count": 17,
     "metadata": {},
     "output_type": "execute_result"
    }
   ],
   "source": [
    "df['User_ID'].nunique()"
   ]
  },
  {
   "cell_type": "markdown",
   "id": "6efd8a8c",
   "metadata": {},
   "source": [
    "How many products are there?"
   ]
  },
  {
   "cell_type": "code",
   "execution_count": 18,
   "id": "6df8971e",
   "metadata": {},
   "outputs": [
    {
     "data": {
      "text/plain": [
       "3631"
      ]
     },
     "execution_count": 18,
     "metadata": {},
     "output_type": "execute_result"
    }
   ],
   "source": [
    "df['Product_ID'].nunique()"
   ]
  },
  {
   "cell_type": "raw",
   "id": "478a828f",
   "metadata": {},
   "source": [
    "Value_counts for the following:\n",
    "    1.Gender\n",
    "    2.Age\n",
    "    3.Occupation\n",
    "    4.City_Category\n",
    "    5.Stay_In_Current_City_Years\n",
    "    6.Marital_Status\n",
    "    7.Product_Category"
   ]
  },
  {
   "cell_type": "code",
   "execution_count": 19,
   "id": "8a20cdcd",
   "metadata": {},
   "outputs": [
    {
     "data": {
      "text/html": [
       "<div>\n",
       "<style scoped>\n",
       "    .dataframe tbody tr th:only-of-type {\n",
       "        vertical-align: middle;\n",
       "    }\n",
       "\n",
       "    .dataframe tbody tr th {\n",
       "        vertical-align: top;\n",
       "    }\n",
       "\n",
       "    .dataframe thead th {\n",
       "        text-align: right;\n",
       "    }\n",
       "</style>\n",
       "<table border=\"1\" class=\"dataframe\">\n",
       "  <thead>\n",
       "    <tr style=\"text-align: right;\">\n",
       "      <th></th>\n",
       "      <th></th>\n",
       "      <th>value</th>\n",
       "    </tr>\n",
       "    <tr>\n",
       "      <th>variable</th>\n",
       "      <th>value</th>\n",
       "      <th></th>\n",
       "    </tr>\n",
       "  </thead>\n",
       "  <tbody>\n",
       "    <tr>\n",
       "      <th rowspan=\"7\" valign=\"top\">Age</th>\n",
       "      <th>0-17</th>\n",
       "      <td>0.027455</td>\n",
       "    </tr>\n",
       "    <tr>\n",
       "      <th>18-25</th>\n",
       "      <td>0.181178</td>\n",
       "    </tr>\n",
       "    <tr>\n",
       "      <th>26-35</th>\n",
       "      <td>0.399200</td>\n",
       "    </tr>\n",
       "    <tr>\n",
       "      <th>36-45</th>\n",
       "      <td>0.199999</td>\n",
       "    </tr>\n",
       "    <tr>\n",
       "      <th>46-50</th>\n",
       "      <td>0.083082</td>\n",
       "    </tr>\n",
       "    <tr>\n",
       "      <th>51-55</th>\n",
       "      <td>0.069993</td>\n",
       "    </tr>\n",
       "    <tr>\n",
       "      <th>55+</th>\n",
       "      <td>0.039093</td>\n",
       "    </tr>\n",
       "    <tr>\n",
       "      <th rowspan=\"3\" valign=\"top\">City_Category</th>\n",
       "      <th>A</th>\n",
       "      <td>0.268549</td>\n",
       "    </tr>\n",
       "    <tr>\n",
       "      <th>B</th>\n",
       "      <td>0.420263</td>\n",
       "    </tr>\n",
       "    <tr>\n",
       "      <th>C</th>\n",
       "      <td>0.311189</td>\n",
       "    </tr>\n",
       "    <tr>\n",
       "      <th rowspan=\"2\" valign=\"top\">Gender</th>\n",
       "      <th>F</th>\n",
       "      <td>0.246895</td>\n",
       "    </tr>\n",
       "    <tr>\n",
       "      <th>M</th>\n",
       "      <td>0.753105</td>\n",
       "    </tr>\n",
       "    <tr>\n",
       "      <th rowspan=\"2\" valign=\"top\">Marital_Status</th>\n",
       "      <th>0</th>\n",
       "      <td>0.590347</td>\n",
       "    </tr>\n",
       "    <tr>\n",
       "      <th>1</th>\n",
       "      <td>0.409653</td>\n",
       "    </tr>\n",
       "    <tr>\n",
       "      <th rowspan=\"21\" valign=\"top\">Occupation</th>\n",
       "      <th>0</th>\n",
       "      <td>0.126599</td>\n",
       "    </tr>\n",
       "    <tr>\n",
       "      <th>1</th>\n",
       "      <td>0.086218</td>\n",
       "    </tr>\n",
       "    <tr>\n",
       "      <th>2</th>\n",
       "      <td>0.048336</td>\n",
       "    </tr>\n",
       "    <tr>\n",
       "      <th>3</th>\n",
       "      <td>0.032087</td>\n",
       "    </tr>\n",
       "    <tr>\n",
       "      <th>4</th>\n",
       "      <td>0.131453</td>\n",
       "    </tr>\n",
       "    <tr>\n",
       "      <th>5</th>\n",
       "      <td>0.022137</td>\n",
       "    </tr>\n",
       "    <tr>\n",
       "      <th>6</th>\n",
       "      <td>0.037005</td>\n",
       "    </tr>\n",
       "    <tr>\n",
       "      <th>7</th>\n",
       "      <td>0.107501</td>\n",
       "    </tr>\n",
       "    <tr>\n",
       "      <th>8</th>\n",
       "      <td>0.002811</td>\n",
       "    </tr>\n",
       "    <tr>\n",
       "      <th>9</th>\n",
       "      <td>0.011437</td>\n",
       "    </tr>\n",
       "    <tr>\n",
       "      <th>10</th>\n",
       "      <td>0.023506</td>\n",
       "    </tr>\n",
       "    <tr>\n",
       "      <th>11</th>\n",
       "      <td>0.021063</td>\n",
       "    </tr>\n",
       "    <tr>\n",
       "      <th>12</th>\n",
       "      <td>0.056682</td>\n",
       "    </tr>\n",
       "    <tr>\n",
       "      <th>13</th>\n",
       "      <td>0.014049</td>\n",
       "    </tr>\n",
       "    <tr>\n",
       "      <th>14</th>\n",
       "      <td>0.049647</td>\n",
       "    </tr>\n",
       "    <tr>\n",
       "      <th>15</th>\n",
       "      <td>0.022115</td>\n",
       "    </tr>\n",
       "    <tr>\n",
       "      <th>16</th>\n",
       "      <td>0.046123</td>\n",
       "    </tr>\n",
       "    <tr>\n",
       "      <th>17</th>\n",
       "      <td>0.072796</td>\n",
       "    </tr>\n",
       "    <tr>\n",
       "      <th>18</th>\n",
       "      <td>0.012039</td>\n",
       "    </tr>\n",
       "    <tr>\n",
       "      <th>19</th>\n",
       "      <td>0.015382</td>\n",
       "    </tr>\n",
       "    <tr>\n",
       "      <th>20</th>\n",
       "      <td>0.061014</td>\n",
       "    </tr>\n",
       "    <tr>\n",
       "      <th rowspan=\"20\" valign=\"top\">Product_Category</th>\n",
       "      <th>1</th>\n",
       "      <td>0.255201</td>\n",
       "    </tr>\n",
       "    <tr>\n",
       "      <th>2</th>\n",
       "      <td>0.043384</td>\n",
       "    </tr>\n",
       "    <tr>\n",
       "      <th>3</th>\n",
       "      <td>0.036746</td>\n",
       "    </tr>\n",
       "    <tr>\n",
       "      <th>4</th>\n",
       "      <td>0.021366</td>\n",
       "    </tr>\n",
       "    <tr>\n",
       "      <th>5</th>\n",
       "      <td>0.274390</td>\n",
       "    </tr>\n",
       "    <tr>\n",
       "      <th>6</th>\n",
       "      <td>0.037206</td>\n",
       "    </tr>\n",
       "    <tr>\n",
       "      <th>7</th>\n",
       "      <td>0.006765</td>\n",
       "    </tr>\n",
       "    <tr>\n",
       "      <th>8</th>\n",
       "      <td>0.207111</td>\n",
       "    </tr>\n",
       "    <tr>\n",
       "      <th>9</th>\n",
       "      <td>0.000745</td>\n",
       "    </tr>\n",
       "    <tr>\n",
       "      <th>10</th>\n",
       "      <td>0.009317</td>\n",
       "    </tr>\n",
       "    <tr>\n",
       "      <th>11</th>\n",
       "      <td>0.044153</td>\n",
       "    </tr>\n",
       "    <tr>\n",
       "      <th>12</th>\n",
       "      <td>0.007175</td>\n",
       "    </tr>\n",
       "    <tr>\n",
       "      <th>13</th>\n",
       "      <td>0.010088</td>\n",
       "    </tr>\n",
       "    <tr>\n",
       "      <th>14</th>\n",
       "      <td>0.002769</td>\n",
       "    </tr>\n",
       "    <tr>\n",
       "      <th>15</th>\n",
       "      <td>0.011435</td>\n",
       "    </tr>\n",
       "    <tr>\n",
       "      <th>16</th>\n",
       "      <td>0.017867</td>\n",
       "    </tr>\n",
       "    <tr>\n",
       "      <th>17</th>\n",
       "      <td>0.001051</td>\n",
       "    </tr>\n",
       "    <tr>\n",
       "      <th>18</th>\n",
       "      <td>0.005681</td>\n",
       "    </tr>\n",
       "    <tr>\n",
       "      <th>19</th>\n",
       "      <td>0.002914</td>\n",
       "    </tr>\n",
       "    <tr>\n",
       "      <th>20</th>\n",
       "      <td>0.004636</td>\n",
       "    </tr>\n",
       "    <tr>\n",
       "      <th rowspan=\"5\" valign=\"top\">Stay_In_Current_City_Years</th>\n",
       "      <th>0</th>\n",
       "      <td>0.135252</td>\n",
       "    </tr>\n",
       "    <tr>\n",
       "      <th>1</th>\n",
       "      <td>0.352358</td>\n",
       "    </tr>\n",
       "    <tr>\n",
       "      <th>2</th>\n",
       "      <td>0.185137</td>\n",
       "    </tr>\n",
       "    <tr>\n",
       "      <th>3</th>\n",
       "      <td>0.173224</td>\n",
       "    </tr>\n",
       "    <tr>\n",
       "      <th>4+</th>\n",
       "      <td>0.154028</td>\n",
       "    </tr>\n",
       "  </tbody>\n",
       "</table>\n",
       "</div>"
      ],
      "text/plain": [
       "                                     value\n",
       "variable                   value          \n",
       "Age                        0-17   0.027455\n",
       "                           18-25  0.181178\n",
       "                           26-35  0.399200\n",
       "                           36-45  0.199999\n",
       "                           46-50  0.083082\n",
       "                           51-55  0.069993\n",
       "                           55+    0.039093\n",
       "City_Category              A      0.268549\n",
       "                           B      0.420263\n",
       "                           C      0.311189\n",
       "Gender                     F      0.246895\n",
       "                           M      0.753105\n",
       "Marital_Status             0      0.590347\n",
       "                           1      0.409653\n",
       "Occupation                 0      0.126599\n",
       "                           1      0.086218\n",
       "                           2      0.048336\n",
       "                           3      0.032087\n",
       "                           4      0.131453\n",
       "                           5      0.022137\n",
       "                           6      0.037005\n",
       "                           7      0.107501\n",
       "                           8      0.002811\n",
       "                           9      0.011437\n",
       "                           10     0.023506\n",
       "                           11     0.021063\n",
       "                           12     0.056682\n",
       "                           13     0.014049\n",
       "                           14     0.049647\n",
       "                           15     0.022115\n",
       "                           16     0.046123\n",
       "                           17     0.072796\n",
       "                           18     0.012039\n",
       "                           19     0.015382\n",
       "                           20     0.061014\n",
       "Product_Category           1      0.255201\n",
       "                           2      0.043384\n",
       "                           3      0.036746\n",
       "                           4      0.021366\n",
       "                           5      0.274390\n",
       "                           6      0.037206\n",
       "                           7      0.006765\n",
       "                           8      0.207111\n",
       "                           9      0.000745\n",
       "                           10     0.009317\n",
       "                           11     0.044153\n",
       "                           12     0.007175\n",
       "                           13     0.010088\n",
       "                           14     0.002769\n",
       "                           15     0.011435\n",
       "                           16     0.017867\n",
       "                           17     0.001051\n",
       "                           18     0.005681\n",
       "                           19     0.002914\n",
       "                           20     0.004636\n",
       "Stay_In_Current_City_Years 0      0.135252\n",
       "                           1      0.352358\n",
       "                           2      0.185137\n",
       "                           3      0.173224\n",
       "                           4+     0.154028"
      ]
     },
     "execution_count": 19,
     "metadata": {},
     "output_type": "execute_result"
    }
   ],
   "source": [
    "categorical_cols = ['Gender', 'Age', 'Occupation', 'City_Category', 'Stay_In_Current_City_Years', 'Marital_Status', 'Product_Category']\n",
    "df[categorical_cols].melt().groupby(['variable', 'value'])[['value']].count()/len(df)"
   ]
  },
  {
   "cell_type": "raw",
   "id": "6a232876",
   "metadata": {},
   "source": [
    "#Observations\n",
    "1.~ 80% of the users are between the age 18-50 (40%: 26-35, 18%: 18-25, 20%: 36-45)\n",
    "2.75% of the users are Male and 25% are Female\n",
    "3.60% Single, 40% Married\n",
    "4.35% Staying in the city from 1 year, 18% from 2 years, 17% from 3 years\n",
    "5.Total of 20 product categories are there\n",
    "6.There are 20 differnent types of occupations in the city"
   ]
  },
  {
   "cell_type": "markdown",
   "id": "20cea759",
   "metadata": {},
   "source": [
    "# Univariate Analysis"
   ]
  },
  {
   "cell_type": "markdown",
   "id": "612f5123",
   "metadata": {},
   "source": [
    "Understanding the distribution of data and detecting outlies for continuous variables"
   ]
  },
  {
   "cell_type": "code",
   "execution_count": 22,
   "id": "761adc9d",
   "metadata": {},
   "outputs": [
    {
     "data": {
      "image/png": "[encoded data removed]",
      "text/plain": [
       "<Figure size 720x432 with 1 Axes>"
      ]
     },
     "metadata": {
      "needs_background": "light"
     },
     "output_type": "display_data"
    }
   ],
   "source": [
    "plt.figure(figsize=(10, 6))\n",
    "sns.histplot(data=df, x='Purchase', kde=True)\n",
    "plt.show()"
   ]
  },
  {
   "cell_type": "code",
   "execution_count": 23,
   "id": "54390d77",
   "metadata": {},
   "outputs": [
    {
     "data": {
      "image/png": "[encoded data removed]",
      "text/plain": [
       "<Figure size 432x288 with 1 Axes>"
      ]
     },
     "metadata": {
      "needs_background": "light"
     },
     "output_type": "display_data"
    }
   ],
   "source": [
    "sns.boxplot(data=df, x='Purchase', orient='h')\n",
    "plt.show()"
   ]
  },
  {
   "cell_type": "markdown",
   "id": "04d588c4",
   "metadata": {},
   "source": [
    "#### Observation\n",
    "Purchase is having outliers"
   ]
  },
  {
   "cell_type": "markdown",
   "id": "61be2dc3",
   "metadata": {},
   "source": [
    "##### Understanding the distribution of data for the categorical variables"
   ]
  },
  {
   "cell_type": "markdown",
   "id": "1dc323b2",
   "metadata": {},
   "source": [
    "#### 1.Gender\n",
    "#### 2.Age\n",
    "#### 3.Occupation\n",
    "#### 4.City_Category\n",
    "#### 5.Stay_In_Current_City_Years\n",
    "#### 6.Marital_Status\n",
    "#### 7.Product_Category"
   ]
  },
  {
   "cell_type": "code",
   "execution_count": 24,
   "id": "d2f32e59",
   "metadata": {},
   "outputs": [
    {
     "data": {
      "image/png": "[encoded data removed]",
      "text/plain": [
       "<Figure size 1152x864 with 4 Axes>"
      ]
     },
     "metadata": {
      "needs_background": "light"
     },
     "output_type": "display_data"
    },
    {
     "data": {
      "image/png": "[encoded data removed]",
      "text/plain": [
       "<Figure size 720x576 with 1 Axes>"
      ]
     },
     "metadata": {
      "needs_background": "light"
     },
     "output_type": "display_data"
    }
   ],
   "source": [
    "categorical_cols = ['Gender', 'Occupation','City_Category','Marital_Status','Product_Category']\n",
    "\n",
    "fig, axs = plt.subplots(nrows=2, ncols=2, figsize=(16, 12))\n",
    "sns.countplot(data=df, x='Gender', ax=axs[0,0])\n",
    "sns.countplot(data=df, x='Occupation', ax=axs[0,1])\n",
    "sns.countplot(data=df, x='City_Category', ax=axs[1,0])\n",
    "sns.countplot(data=df, x='Marital_Status', ax=axs[1,1])\n",
    "plt.show()\n",
    "\n",
    "plt.figure(figsize=(10, 8))\n",
    "sns.countplot(data=df, x='Product_Category')\n",
    "plt.show()"
   ]
  },
  {
   "cell_type": "raw",
   "id": "19c1cfc5",
   "metadata": {},
   "source": [
    "**Observations**\n",
    "*Most of the users are Male\n",
    "*There are 20 different types of Occupation and Product_Category\n",
    "*More users belong to B City_Category\n",
    "*More users are Single as compare to Married\n",
    "*Product_Category - 1, 5, 8, & 11 have highest purchasing frequency."
   ]
  },
  {
   "cell_type": "code",
   "execution_count": 26,
   "id": "6204df98",
   "metadata": {},
   "outputs": [
    {
     "data": {
      "image/png": "[encoded data removed]",
      "text/plain": [
       "<Figure size 864x576 with 2 Axes>"
      ]
     },
     "metadata": {},
     "output_type": "display_data"
    }
   ],
   "source": [
    "fig, axs = plt.subplots(nrows=1, ncols=2, figsize=(12, 8))\n",
    "\n",
    "data = df['Age'].value_counts(normalize=True)*100\n",
    "palette_color = sns.color_palette('BrBG_r')\n",
    "axs[0].pie(x=data.values, labels=data.index, autopct='%.0f%%', colors=palette_color)\n",
    "axs[0].set_title(\"Age\")\n",
    "\n",
    "data = df['Stay_In_Current_City_Years'].value_counts(normalize=True)*100\n",
    "palette_color = sns.color_palette('YlOrRd_r')\n",
    "axs[1].pie(x=data.values, labels=data.index, autopct='%.0f%%', colors=palette_color)\n",
    "axs[1].set_title(\"Stay_In_Current_City_Years\")\n",
    "\n",
    "\n",
    "plt.show()"
   ]
  },
  {
   "cell_type": "markdown",
   "id": "d9df50c5",
   "metadata": {},
   "source": [
    "Upper two graphs are self-explanatory."
   ]
  },
  {
   "cell_type": "markdown",
   "id": "db20d110",
   "metadata": {},
   "source": [
    "#### Bi-variate Analysis"
   ]
  },
  {
   "cell_type": "code",
   "execution_count": 27,
   "id": "15d33386",
   "metadata": {},
   "outputs": [
    {
     "data": {
      "image/png": "[encoded data removed]",
      "text/plain": [
       "<Figure size 1440x1152 with 6 Axes>"
      ]
     },
     "metadata": {},
     "output_type": "display_data"
    },
    {
     "data": {
      "image/png": "[encoded data removed]",
      "text/plain": [
       "<Figure size 720x576 with 1 Axes>"
      ]
     },
     "metadata": {},
     "output_type": "display_data"
    }
   ],
   "source": [
    "attrs = ['Gender', 'Age', 'Occupation', 'City_Category', 'Stay_In_Current_City_Years', 'Marital_Status', 'Product_Category']\n",
    "sns.set_style(\"white\")\n",
    "\n",
    "fig, axs = plt.subplots(nrows=3, ncols=2, figsize=(20, 16))\n",
    "fig.subplots_adjust(top=1.3)\n",
    "count = 0\n",
    "for row in range(3):\n",
    "    for col in range(2):\n",
    "        sns.boxplot(data=df, y='Purchase', x=attrs[count], ax=axs[row, col], palette='Set3')\n",
    "        axs[row,col].set_title(f\"Purchase vs {attrs[count]}\", pad=12, fontsize=13)\n",
    "        count += 1\n",
    "plt.show()\n",
    "\n",
    "plt.figure(figsize=(10, 8))\n",
    "sns.boxplot(data=df, y='Purchase', x=attrs[-1], palette='Set3')\n",
    "plt.show()"
   ]
  },
  {
   "cell_type": "markdown",
   "id": "e787b685",
   "metadata": {},
   "source": [
    "#### Multivariate Analysis"
   ]
  },
  {
   "cell_type": "code",
   "execution_count": 28,
   "id": "d0562b29",
   "metadata": {},
   "outputs": [
    {
     "data": {
      "image/png": "[encoded data removed]",
      "text/plain": [
       "<Figure size 1440x432 with 4 Axes>"
      ]
     },
     "metadata": {},
     "output_type": "display_data"
    }
   ],
   "source": [
    "fig, axs = plt.subplots(nrows=2, ncols=2, figsize=(20, 6))\n",
    "fig.subplots_adjust(top=1.5)\n",
    "sns.boxplot(data=df, y='Purchase', x='Gender', hue='Age', palette='Set3', ax=axs[0,0])\n",
    "sns.boxplot(data=df, y='Purchase', x='Gender', hue='City_Category', palette='Set3', ax=axs[0,1])\n",
    "\n",
    "sns.boxplot(data=df, y='Purchase', x='Gender', hue='Marital_Status', palette='Set3', ax=axs[1,0])\n",
    "sns.boxplot(data=df, y='Purchase', x='Gender', hue='Stay_In_Current_City_Years', palette='Set3', ax=axs[1,1])\n",
    "axs[1,1].legend(loc='upper left')\n",
    "\n",
    "plt.show()"
   ]
  },
  {
   "cell_type": "code",
   "execution_count": 29,
   "id": "7e48bd1a",
   "metadata": {},
   "outputs": [
    {
     "data": {
      "text/html": [
       "<div>\n",
       "<style scoped>\n",
       "    .dataframe tbody tr th:only-of-type {\n",
       "        vertical-align: middle;\n",
       "    }\n",
       "\n",
       "    .dataframe tbody tr th {\n",
       "        vertical-align: top;\n",
       "    }\n",
       "\n",
       "    .dataframe thead th {\n",
       "        text-align: right;\n",
       "    }\n",
       "</style>\n",
       "<table border=\"1\" class=\"dataframe\">\n",
       "  <thead>\n",
       "    <tr style=\"text-align: right;\">\n",
       "      <th></th>\n",
       "      <th>User_ID</th>\n",
       "      <th>Product_ID</th>\n",
       "      <th>Gender</th>\n",
       "      <th>Age</th>\n",
       "      <th>Occupation</th>\n",
       "      <th>City_Category</th>\n",
       "      <th>Stay_In_Current_City_Years</th>\n",
       "      <th>Marital_Status</th>\n",
       "      <th>Product_Category</th>\n",
       "      <th>Purchase</th>\n",
       "    </tr>\n",
       "  </thead>\n",
       "  <tbody>\n",
       "    <tr>\n",
       "      <th>0</th>\n",
       "      <td>1000001</td>\n",
       "      <td>P00069042</td>\n",
       "      <td>F</td>\n",
       "      <td>0-17</td>\n",
       "      <td>10</td>\n",
       "      <td>A</td>\n",
       "      <td>2</td>\n",
       "      <td>0</td>\n",
       "      <td>3</td>\n",
       "      <td>8370</td>\n",
       "    </tr>\n",
       "    <tr>\n",
       "      <th>1</th>\n",
       "      <td>1000001</td>\n",
       "      <td>P00248942</td>\n",
       "      <td>F</td>\n",
       "      <td>0-17</td>\n",
       "      <td>10</td>\n",
       "      <td>A</td>\n",
       "      <td>2</td>\n",
       "      <td>0</td>\n",
       "      <td>1</td>\n",
       "      <td>15200</td>\n",
       "    </tr>\n",
       "    <tr>\n",
       "      <th>2</th>\n",
       "      <td>1000001</td>\n",
       "      <td>P00087842</td>\n",
       "      <td>F</td>\n",
       "      <td>0-17</td>\n",
       "      <td>10</td>\n",
       "      <td>A</td>\n",
       "      <td>2</td>\n",
       "      <td>0</td>\n",
       "      <td>12</td>\n",
       "      <td>1422</td>\n",
       "    </tr>\n",
       "    <tr>\n",
       "      <th>3</th>\n",
       "      <td>1000001</td>\n",
       "      <td>P00085442</td>\n",
       "      <td>F</td>\n",
       "      <td>0-17</td>\n",
       "      <td>10</td>\n",
       "      <td>A</td>\n",
       "      <td>2</td>\n",
       "      <td>0</td>\n",
       "      <td>12</td>\n",
       "      <td>1057</td>\n",
       "    </tr>\n",
       "    <tr>\n",
       "      <th>4</th>\n",
       "      <td>1000002</td>\n",
       "      <td>P00285442</td>\n",
       "      <td>M</td>\n",
       "      <td>55+</td>\n",
       "      <td>16</td>\n",
       "      <td>C</td>\n",
       "      <td>4+</td>\n",
       "      <td>0</td>\n",
       "      <td>8</td>\n",
       "      <td>7969</td>\n",
       "    </tr>\n",
       "    <tr>\n",
       "      <th>5</th>\n",
       "      <td>1000003</td>\n",
       "      <td>P00193542</td>\n",
       "      <td>M</td>\n",
       "      <td>26-35</td>\n",
       "      <td>15</td>\n",
       "      <td>A</td>\n",
       "      <td>3</td>\n",
       "      <td>0</td>\n",
       "      <td>1</td>\n",
       "      <td>15227</td>\n",
       "    </tr>\n",
       "    <tr>\n",
       "      <th>6</th>\n",
       "      <td>1000004</td>\n",
       "      <td>P00184942</td>\n",
       "      <td>M</td>\n",
       "      <td>46-50</td>\n",
       "      <td>7</td>\n",
       "      <td>B</td>\n",
       "      <td>2</td>\n",
       "      <td>1</td>\n",
       "      <td>1</td>\n",
       "      <td>19215</td>\n",
       "    </tr>\n",
       "    <tr>\n",
       "      <th>7</th>\n",
       "      <td>1000004</td>\n",
       "      <td>P00346142</td>\n",
       "      <td>M</td>\n",
       "      <td>46-50</td>\n",
       "      <td>7</td>\n",
       "      <td>B</td>\n",
       "      <td>2</td>\n",
       "      <td>1</td>\n",
       "      <td>1</td>\n",
       "      <td>15854</td>\n",
       "    </tr>\n",
       "    <tr>\n",
       "      <th>8</th>\n",
       "      <td>1000004</td>\n",
       "      <td>P0097242</td>\n",
       "      <td>M</td>\n",
       "      <td>46-50</td>\n",
       "      <td>7</td>\n",
       "      <td>B</td>\n",
       "      <td>2</td>\n",
       "      <td>1</td>\n",
       "      <td>1</td>\n",
       "      <td>15686</td>\n",
       "    </tr>\n",
       "    <tr>\n",
       "      <th>9</th>\n",
       "      <td>1000005</td>\n",
       "      <td>P00274942</td>\n",
       "      <td>M</td>\n",
       "      <td>26-35</td>\n",
       "      <td>20</td>\n",
       "      <td>A</td>\n",
       "      <td>1</td>\n",
       "      <td>1</td>\n",
       "      <td>8</td>\n",
       "      <td>7871</td>\n",
       "    </tr>\n",
       "  </tbody>\n",
       "</table>\n",
       "</div>"
      ],
      "text/plain": [
       "   User_ID Product_ID Gender    Age Occupation City_Category  \\\n",
       "0  1000001  P00069042      F   0-17         10             A   \n",
       "1  1000001  P00248942      F   0-17         10             A   \n",
       "2  1000001  P00087842      F   0-17         10             A   \n",
       "3  1000001  P00085442      F   0-17         10             A   \n",
       "4  1000002  P00285442      M    55+         16             C   \n",
       "5  1000003  P00193542      M  26-35         15             A   \n",
       "6  1000004  P00184942      M  46-50          7             B   \n",
       "7  1000004  P00346142      M  46-50          7             B   \n",
       "8  1000004   P0097242      M  46-50          7             B   \n",
       "9  1000005  P00274942      M  26-35         20             A   \n",
       "\n",
       "  Stay_In_Current_City_Years Marital_Status Product_Category  Purchase  \n",
       "0                          2              0                3      8370  \n",
       "1                          2              0                1     15200  \n",
       "2                          2              0               12      1422  \n",
       "3                          2              0               12      1057  \n",
       "4                         4+              0                8      7969  \n",
       "5                          3              0                1     15227  \n",
       "6                          2              1                1     19215  \n",
       "7                          2              1                1     15854  \n",
       "8                          2              1                1     15686  \n",
       "9                          1              1                8      7871  "
      ]
     },
     "execution_count": 29,
     "metadata": {},
     "output_type": "execute_result"
    }
   ],
   "source": [
    "df.head(10)"
   ]
  },
  {
   "cell_type": "markdown",
   "id": "0deba66c",
   "metadata": {},
   "source": [
    "**Average amount spend per customer for Male and Female**"
   ]
  },
  {
   "cell_type": "code",
   "execution_count": 30,
   "id": "ca941fea",
   "metadata": {},
   "outputs": [
    {
     "data": {
      "text/html": [
       "<div>\n",
       "<style scoped>\n",
       "    .dataframe tbody tr th:only-of-type {\n",
       "        vertical-align: middle;\n",
       "    }\n",
       "\n",
       "    .dataframe tbody tr th {\n",
       "        vertical-align: top;\n",
       "    }\n",
       "\n",
       "    .dataframe thead th {\n",
       "        text-align: right;\n",
       "    }\n",
       "</style>\n",
       "<table border=\"1\" class=\"dataframe\">\n",
       "  <thead>\n",
       "    <tr style=\"text-align: right;\">\n",
       "      <th></th>\n",
       "      <th>User_ID</th>\n",
       "      <th>Gender</th>\n",
       "      <th>Purchase</th>\n",
       "    </tr>\n",
       "  </thead>\n",
       "  <tbody>\n",
       "    <tr>\n",
       "      <th>0</th>\n",
       "      <td>1000001</td>\n",
       "      <td>F</td>\n",
       "      <td>334093</td>\n",
       "    </tr>\n",
       "    <tr>\n",
       "      <th>1</th>\n",
       "      <td>1000002</td>\n",
       "      <td>M</td>\n",
       "      <td>810472</td>\n",
       "    </tr>\n",
       "    <tr>\n",
       "      <th>2</th>\n",
       "      <td>1000003</td>\n",
       "      <td>M</td>\n",
       "      <td>341635</td>\n",
       "    </tr>\n",
       "    <tr>\n",
       "      <th>3</th>\n",
       "      <td>1000004</td>\n",
       "      <td>M</td>\n",
       "      <td>206468</td>\n",
       "    </tr>\n",
       "    <tr>\n",
       "      <th>4</th>\n",
       "      <td>1000005</td>\n",
       "      <td>M</td>\n",
       "      <td>821001</td>\n",
       "    </tr>\n",
       "    <tr>\n",
       "      <th>...</th>\n",
       "      <td>...</td>\n",
       "      <td>...</td>\n",
       "      <td>...</td>\n",
       "    </tr>\n",
       "    <tr>\n",
       "      <th>5886</th>\n",
       "      <td>1006036</td>\n",
       "      <td>F</td>\n",
       "      <td>4116058</td>\n",
       "    </tr>\n",
       "    <tr>\n",
       "      <th>5887</th>\n",
       "      <td>1006037</td>\n",
       "      <td>F</td>\n",
       "      <td>1119538</td>\n",
       "    </tr>\n",
       "    <tr>\n",
       "      <th>5888</th>\n",
       "      <td>1006038</td>\n",
       "      <td>F</td>\n",
       "      <td>90034</td>\n",
       "    </tr>\n",
       "    <tr>\n",
       "      <th>5889</th>\n",
       "      <td>1006039</td>\n",
       "      <td>F</td>\n",
       "      <td>590319</td>\n",
       "    </tr>\n",
       "    <tr>\n",
       "      <th>5890</th>\n",
       "      <td>1006040</td>\n",
       "      <td>M</td>\n",
       "      <td>1653299</td>\n",
       "    </tr>\n",
       "  </tbody>\n",
       "</table>\n",
       "<p>5891 rows × 3 columns</p>\n",
       "</div>"
      ],
      "text/plain": [
       "      User_ID Gender  Purchase\n",
       "0     1000001      F    334093\n",
       "1     1000002      M    810472\n",
       "2     1000003      M    341635\n",
       "3     1000004      M    206468\n",
       "4     1000005      M    821001\n",
       "...       ...    ...       ...\n",
       "5886  1006036      F   4116058\n",
       "5887  1006037      F   1119538\n",
       "5888  1006038      F     90034\n",
       "5889  1006039      F    590319\n",
       "5890  1006040      M   1653299\n",
       "\n",
       "[5891 rows x 3 columns]"
      ]
     },
     "execution_count": 30,
     "metadata": {},
     "output_type": "execute_result"
    }
   ],
   "source": [
    "amt_df = df.groupby(['User_ID', 'Gender'])[['Purchase']].sum()\n",
    "amt_df = amt_df.reset_index()\n",
    "amt_df"
   ]
  },
  {
   "cell_type": "code",
   "execution_count": 32,
   "id": "4bc37e15",
   "metadata": {},
   "outputs": [
    {
     "data": {
      "image/png": "[encoded data removed]",
      "text/plain": [
       "<Figure size 432x288 with 1 Axes>"
      ]
     },
     "metadata": {},
     "output_type": "display_data"
    },
    {
     "data": {
      "image/png": "[encoded data removed]",
      "text/plain": [
       "<Figure size 432x288 with 1 Axes>"
      ]
     },
     "metadata": {},
     "output_type": "display_data"
    }
   ],
   "source": [
    "# histogram of average amount spend for each customer - Male & Female\n",
    "amt_df[amt_df['Gender']=='M']['Purchase'].hist(bins=35)\n",
    "plt.show()\n",
    "\n",
    "amt_df[amt_df['Gender']=='F']['Purchase'].hist(bins=35)\n",
    "plt.show()"
   ]
  },
  {
   "cell_type": "code",
   "execution_count": 33,
   "id": "a62ac614",
   "metadata": {},
   "outputs": [
    {
     "name": "stdout",
     "output_type": "stream",
     "text": [
      "Average amount spend by Male customers: 925344.40\n",
      "Average amount spend by Female customers: 712024.39\n"
     ]
    }
   ],
   "source": [
    "male_avg = amt_df[amt_df['Gender']=='M']['Purchase'].mean()\n",
    "female_avg = amt_df[amt_df['Gender']=='F']['Purchase'].mean()\n",
    "\n",
    "print(\"Average amount spend by Male customers: {:.2f}\".format(male_avg))\n",
    "print(\"Average amount spend by Female customers: {:.2f}\".format(female_avg))\n"
   ]
  },
  {
   "cell_type": "markdown",
   "id": "7b7b1ffc",
   "metadata": {},
   "source": [
    "**Observation**\n",
    "\n",
    "*Male customers spend more money than female customers*"
   ]
  },
  {
   "cell_type": "code",
   "execution_count": 34,
   "id": "e8f63dfc",
   "metadata": {},
   "outputs": [],
   "source": [
    "male_df = amt_df[amt_df['Gender']=='M']\n",
    "female_df = amt_df[amt_df['Gender']=='F']"
   ]
  },
  {
   "cell_type": "code",
   "execution_count": 35,
   "id": "7a066290",
   "metadata": {},
   "outputs": [],
   "source": [
    "genders = [\"M\", \"F\"]\n",
    "\n",
    "male_sample_size = 3000\n",
    "female_sample_size = 1500\n",
    "num_repitions = 1000\n",
    "male_means = []\n",
    "female_means = []\n",
    "\n",
    "for _ in range(num_repitions):\n",
    "    male_mean = male_df.sample(male_sample_size, replace=True)['Purchase'].mean()\n",
    "    female_mean = female_df.sample(female_sample_size, replace=True)['Purchase'].mean()\n",
    "    \n",
    "    male_means.append(male_mean)\n",
    "    female_means.append(female_mean)"
   ]
  },
  {
   "cell_type": "code",
   "execution_count": 36,
   "id": "249f6bce",
   "metadata": {},
   "outputs": [
    {
     "data": {
      "image/png": "[encoded data removed]",
      "text/plain": [
       "<Figure size 1440x432 with 2 Axes>"
      ]
     },
     "metadata": {},
     "output_type": "display_data"
    }
   ],
   "source": [
    "fig, axis = plt.subplots(nrows=1, ncols=2, figsize=(20, 6))\n",
    "\n",
    "axis[0].hist(male_means, bins=35)\n",
    "axis[1].hist(female_means, bins=35)\n",
    "axis[0].set_title(\"Male - Distribution of means, Sample size: 3000\")\n",
    "axis[1].set_title(\"Female - Distribution of means, Sample size: 1500\")\n",
    "\n",
    "plt.show()"
   ]
  },
  {
   "cell_type": "code",
   "execution_count": 37,
   "id": "be32d989",
   "metadata": {},
   "outputs": [
    {
     "name": "stdout",
     "output_type": "stream",
     "text": [
      "Population mean - Mean of sample means of amount spend for Male: 926193.98\n",
      "Population mean - Mean of sample means of amount spend for Female: 712001.02\n",
      "\n",
      "Male - Sample mean: 925344.40 Sample std: 985830.10\n",
      "Female - Sample mean: 712024.39 Sample std: 807370.73\n"
     ]
    }
   ],
   "source": [
    "print(\"Population mean - Mean of sample means of amount spend for Male: {:.2f}\".format(np.mean(male_means)))\n",
    "print(\"Population mean - Mean of sample means of amount spend for Female: {:.2f}\".format(np.mean(female_means)))\n",
    "\n",
    "print(\"\\nMale - Sample mean: {:.2f} Sample std: {:.2f}\".format(male_df['Purchase'].mean(), male_df['Purchase'].std()))\n",
    "print(\"Female - Sample mean: {:.2f} Sample std: {:.2f}\".format(female_df['Purchase'].mean(), female_df['Purchase'].std()))"
   ]
  },
  {
   "cell_type": "markdown",
   "id": "d7ef5ad8",
   "metadata": {},
   "source": [
    "**Observation**\n",
    "\n",
    "*Now using the Central Limit Theorem for the population we can say that:*\n",
    "\n",
    "*1.Average amount spend by male customers is 9,26,341.86*\n",
    "\n",
    "*2.Average amount spend by female customers is 7,11,704.09*"
   ]
  },
  {
   "cell_type": "code",
   "execution_count": 38,
   "id": "29fd0663",
   "metadata": {},
   "outputs": [
    {
     "name": "stdout",
     "output_type": "stream",
     "text": [
      "Male confidence interval of means: (895617.83, 955070.97)\n",
      "Female confidence interval of means: (673254.77, 750794.02)\n"
     ]
    }
   ],
   "source": [
    "male_margin_of_error_clt = 1.96*male_df['Purchase'].std()/np.sqrt(len(male_df))\n",
    "male_sample_mean = male_df['Purchase'].mean()\n",
    "male_lower_lim = male_sample_mean - male_margin_of_error_clt\n",
    "male_upper_lim = male_sample_mean + male_margin_of_error_clt\n",
    "\n",
    "female_margin_of_error_clt = 1.96*female_df['Purchase'].std()/np.sqrt(len(female_df))\n",
    "female_sample_mean = female_df['Purchase'].mean()\n",
    "female_lower_lim = female_sample_mean - female_margin_of_error_clt\n",
    "female_upper_lim = female_sample_mean + female_margin_of_error_clt\n",
    "\n",
    "print(\"Male confidence interval of means: ({:.2f}, {:.2f})\".format(male_lower_lim, male_upper_lim))\n",
    "print(\"Female confidence interval of means: ({:.2f}, {:.2f})\".format(female_lower_lim, female_upper_lim))"
   ]
  },
  {
   "cell_type": "markdown",
   "id": "19ea061f",
   "metadata": {},
   "source": [
    "*Now we can infer about the population that, 95% of the times:*\n",
    "\n",
    "*1.Average amount spend by male customer will lie in between: (895617.83, 955070.97)*\n",
    "\n",
    "*2.Average amount spend by female customer will lie in between: (673254.77, 750794.02)*"
   ]
  },
  {
   "cell_type": "markdown",
   "id": "3079517f",
   "metadata": {},
   "source": [
    "**Doing the same activity for married vs unmarried**"
   ]
  },
  {
   "cell_type": "code",
   "execution_count": 40,
   "id": "bf8ea2e9",
   "metadata": {},
   "outputs": [
    {
     "data": {
      "text/html": [
       "<div>\n",
       "<style scoped>\n",
       "    .dataframe tbody tr th:only-of-type {\n",
       "        vertical-align: middle;\n",
       "    }\n",
       "\n",
       "    .dataframe tbody tr th {\n",
       "        vertical-align: top;\n",
       "    }\n",
       "\n",
       "    .dataframe thead th {\n",
       "        text-align: right;\n",
       "    }\n",
       "</style>\n",
       "<table border=\"1\" class=\"dataframe\">\n",
       "  <thead>\n",
       "    <tr style=\"text-align: right;\">\n",
       "      <th></th>\n",
       "      <th>User_ID</th>\n",
       "      <th>Gender</th>\n",
       "      <th>Purchase</th>\n",
       "    </tr>\n",
       "  </thead>\n",
       "  <tbody>\n",
       "    <tr>\n",
       "      <th>0</th>\n",
       "      <td>1000001</td>\n",
       "      <td>F</td>\n",
       "      <td>334093</td>\n",
       "    </tr>\n",
       "    <tr>\n",
       "      <th>1</th>\n",
       "      <td>1000002</td>\n",
       "      <td>M</td>\n",
       "      <td>810472</td>\n",
       "    </tr>\n",
       "    <tr>\n",
       "      <th>2</th>\n",
       "      <td>1000003</td>\n",
       "      <td>M</td>\n",
       "      <td>341635</td>\n",
       "    </tr>\n",
       "    <tr>\n",
       "      <th>3</th>\n",
       "      <td>1000004</td>\n",
       "      <td>M</td>\n",
       "      <td>206468</td>\n",
       "    </tr>\n",
       "    <tr>\n",
       "      <th>4</th>\n",
       "      <td>1000005</td>\n",
       "      <td>M</td>\n",
       "      <td>821001</td>\n",
       "    </tr>\n",
       "    <tr>\n",
       "      <th>...</th>\n",
       "      <td>...</td>\n",
       "      <td>...</td>\n",
       "      <td>...</td>\n",
       "    </tr>\n",
       "    <tr>\n",
       "      <th>5886</th>\n",
       "      <td>1006036</td>\n",
       "      <td>F</td>\n",
       "      <td>4116058</td>\n",
       "    </tr>\n",
       "    <tr>\n",
       "      <th>5887</th>\n",
       "      <td>1006037</td>\n",
       "      <td>F</td>\n",
       "      <td>1119538</td>\n",
       "    </tr>\n",
       "    <tr>\n",
       "      <th>5888</th>\n",
       "      <td>1006038</td>\n",
       "      <td>F</td>\n",
       "      <td>90034</td>\n",
       "    </tr>\n",
       "    <tr>\n",
       "      <th>5889</th>\n",
       "      <td>1006039</td>\n",
       "      <td>F</td>\n",
       "      <td>590319</td>\n",
       "    </tr>\n",
       "    <tr>\n",
       "      <th>5890</th>\n",
       "      <td>1006040</td>\n",
       "      <td>M</td>\n",
       "      <td>1653299</td>\n",
       "    </tr>\n",
       "  </tbody>\n",
       "</table>\n",
       "<p>5891 rows × 3 columns</p>\n",
       "</div>"
      ],
      "text/plain": [
       "      User_ID Gender  Purchase\n",
       "0     1000001      F    334093\n",
       "1     1000002      M    810472\n",
       "2     1000003      M    341635\n",
       "3     1000004      M    206468\n",
       "4     1000005      M    821001\n",
       "...       ...    ...       ...\n",
       "5886  1006036      F   4116058\n",
       "5887  1006037      F   1119538\n",
       "5888  1006038      F     90034\n",
       "5889  1006039      F    590319\n",
       "5890  1006040      M   1653299\n",
       "\n",
       "[5891 rows x 3 columns]"
      ]
     },
     "execution_count": 40,
     "metadata": {},
     "output_type": "execute_result"
    }
   ],
   "source": [
    "amt_df"
   ]
  },
  {
   "cell_type": "code",
   "execution_count": 41,
   "id": "d4185edd",
   "metadata": {},
   "outputs": [
    {
     "data": {
      "text/html": [
       "<div>\n",
       "<style scoped>\n",
       "    .dataframe tbody tr th:only-of-type {\n",
       "        vertical-align: middle;\n",
       "    }\n",
       "\n",
       "    .dataframe tbody tr th {\n",
       "        vertical-align: top;\n",
       "    }\n",
       "\n",
       "    .dataframe thead th {\n",
       "        text-align: right;\n",
       "    }\n",
       "</style>\n",
       "<table border=\"1\" class=\"dataframe\">\n",
       "  <thead>\n",
       "    <tr style=\"text-align: right;\">\n",
       "      <th></th>\n",
       "      <th>User_ID</th>\n",
       "      <th>Marital_Status</th>\n",
       "      <th>Purchase</th>\n",
       "    </tr>\n",
       "  </thead>\n",
       "  <tbody>\n",
       "    <tr>\n",
       "      <th>0</th>\n",
       "      <td>1000001</td>\n",
       "      <td>0</td>\n",
       "      <td>334093</td>\n",
       "    </tr>\n",
       "    <tr>\n",
       "      <th>1</th>\n",
       "      <td>1000002</td>\n",
       "      <td>0</td>\n",
       "      <td>810472</td>\n",
       "    </tr>\n",
       "    <tr>\n",
       "      <th>2</th>\n",
       "      <td>1000003</td>\n",
       "      <td>0</td>\n",
       "      <td>341635</td>\n",
       "    </tr>\n",
       "    <tr>\n",
       "      <th>3</th>\n",
       "      <td>1000004</td>\n",
       "      <td>1</td>\n",
       "      <td>206468</td>\n",
       "    </tr>\n",
       "    <tr>\n",
       "      <th>4</th>\n",
       "      <td>1000005</td>\n",
       "      <td>1</td>\n",
       "      <td>821001</td>\n",
       "    </tr>\n",
       "    <tr>\n",
       "      <th>...</th>\n",
       "      <td>...</td>\n",
       "      <td>...</td>\n",
       "      <td>...</td>\n",
       "    </tr>\n",
       "    <tr>\n",
       "      <th>5886</th>\n",
       "      <td>1006036</td>\n",
       "      <td>1</td>\n",
       "      <td>4116058</td>\n",
       "    </tr>\n",
       "    <tr>\n",
       "      <th>5887</th>\n",
       "      <td>1006037</td>\n",
       "      <td>0</td>\n",
       "      <td>1119538</td>\n",
       "    </tr>\n",
       "    <tr>\n",
       "      <th>5888</th>\n",
       "      <td>1006038</td>\n",
       "      <td>0</td>\n",
       "      <td>90034</td>\n",
       "    </tr>\n",
       "    <tr>\n",
       "      <th>5889</th>\n",
       "      <td>1006039</td>\n",
       "      <td>1</td>\n",
       "      <td>590319</td>\n",
       "    </tr>\n",
       "    <tr>\n",
       "      <th>5890</th>\n",
       "      <td>1006040</td>\n",
       "      <td>0</td>\n",
       "      <td>1653299</td>\n",
       "    </tr>\n",
       "  </tbody>\n",
       "</table>\n",
       "<p>5891 rows × 3 columns</p>\n",
       "</div>"
      ],
      "text/plain": [
       "      User_ID  Marital_Status  Purchase\n",
       "0     1000001               0    334093\n",
       "1     1000002               0    810472\n",
       "2     1000003               0    341635\n",
       "3     1000004               1    206468\n",
       "4     1000005               1    821001\n",
       "...       ...             ...       ...\n",
       "5886  1006036               1   4116058\n",
       "5887  1006037               0   1119538\n",
       "5888  1006038               0     90034\n",
       "5889  1006039               1    590319\n",
       "5890  1006040               0   1653299\n",
       "\n",
       "[5891 rows x 3 columns]"
      ]
     },
     "execution_count": 41,
     "metadata": {},
     "output_type": "execute_result"
    }
   ],
   "source": [
    "amt_df = df.groupby(['User_ID', 'Marital_Status'])[['Purchase']].sum()\n",
    "amt_df = amt_df.reset_index()\n",
    "amt_df"
   ]
  },
  {
   "cell_type": "code",
   "execution_count": 42,
   "id": "9b902854",
   "metadata": {},
   "outputs": [
    {
     "data": {
      "text/plain": [
       "0    3417\n",
       "1    2474\n",
       "Name: Marital_Status, dtype: int64"
      ]
     },
     "execution_count": 42,
     "metadata": {},
     "output_type": "execute_result"
    }
   ],
   "source": [
    "amt_df['Marital_Status'].value_counts()"
   ]
  },
  {
   "cell_type": "code",
   "execution_count": 43,
   "id": "421d0b05",
   "metadata": {},
   "outputs": [
    {
     "data": {
      "image/png": "[encoded data removed]",
      "text/plain": [
       "<Figure size 1440x432 with 2 Axes>"
      ]
     },
     "metadata": {},
     "output_type": "display_data"
    },
    {
     "name": "stdout",
     "output_type": "stream",
     "text": [
      "Population mean - Mean of sample means of amount spend for Married: 842179.71\n",
      "Population mean - Mean of sample means of amount spend for Unmarried: 881726.49\n",
      "\n",
      "Married - Sample mean: 843526.80 Sample std: 935352.12\n",
      "Unmarried - Sample mean: 880575.78 Sample std: 949436.25\n"
     ]
    }
   ],
   "source": [
    "marid_samp_size = 3000\n",
    "unmarid_sample_size = 2000\n",
    "num_repitions = 1000\n",
    "marid_means = []\n",
    "unmarid_means = []\n",
    "\n",
    "for _ in range(num_repitions):\n",
    "    marid_mean = amt_df[amt_df['Marital_Status']==1].sample(marid_samp_size, replace=True)['Purchase'].mean()\n",
    "    unmarid_mean = amt_df[amt_df['Marital_Status']==0].sample(unmarid_sample_size, replace=True)['Purchase'].mean()\n",
    "    \n",
    "    marid_means.append(marid_mean)\n",
    "    unmarid_means.append(unmarid_mean)\n",
    "    \n",
    "    \n",
    "fig, axis = plt.subplots(nrows=1, ncols=2, figsize=(20, 6))\n",
    "\n",
    "axis[0].hist(marid_means, bins=35)\n",
    "axis[1].hist(unmarid_means, bins=35)\n",
    "axis[0].set_title(\"Married - Distribution of means, Sample size: 3000\")\n",
    "axis[1].set_title(\"Unmarried - Distribution of means, Sample size: 2000\")\n",
    "\n",
    "plt.show()\n",
    "\n",
    "print(\"Population mean - Mean of sample means of amount spend for Married: {:.2f}\".format(np.mean(marid_means)))\n",
    "print(\"Population mean - Mean of sample means of amount spend for Unmarried: {:.2f}\".format(np.mean(unmarid_means)))\n",
    "\n",
    "print(\"\\nMarried - Sample mean: {:.2f} Sample std: {:.2f}\".format(amt_df[amt_df['Marital_Status']==1]['Purchase'].mean(), amt_df[amt_df['Marital_Status']==1]['Purchase'].std()))\n",
    "print(\"Unmarried - Sample mean: {:.2f} Sample std: {:.2f}\".format(amt_df[amt_df['Marital_Status']==0]['Purchase'].mean(), amt_df[amt_df['Marital_Status']==0]['Purchase'].std()))"
   ]
  },
  {
   "cell_type": "markdown",
   "id": "771710ab",
   "metadata": {},
   "source": [
    "**Calculating the average amount spent by Age**"
   ]
  },
  {
   "cell_type": "code",
   "execution_count": 46,
   "id": "510f771a",
   "metadata": {},
   "outputs": [
    {
     "data": {
      "text/html": [
       "<div>\n",
       "<style scoped>\n",
       "    .dataframe tbody tr th:only-of-type {\n",
       "        vertical-align: middle;\n",
       "    }\n",
       "\n",
       "    .dataframe tbody tr th {\n",
       "        vertical-align: top;\n",
       "    }\n",
       "\n",
       "    .dataframe thead th {\n",
       "        text-align: right;\n",
       "    }\n",
       "</style>\n",
       "<table border=\"1\" class=\"dataframe\">\n",
       "  <thead>\n",
       "    <tr style=\"text-align: right;\">\n",
       "      <th></th>\n",
       "      <th>User_ID</th>\n",
       "      <th>Age</th>\n",
       "      <th>Purchase</th>\n",
       "    </tr>\n",
       "  </thead>\n",
       "  <tbody>\n",
       "    <tr>\n",
       "      <th>0</th>\n",
       "      <td>1000001</td>\n",
       "      <td>0-17</td>\n",
       "      <td>334093</td>\n",
       "    </tr>\n",
       "    <tr>\n",
       "      <th>1</th>\n",
       "      <td>1000002</td>\n",
       "      <td>55+</td>\n",
       "      <td>810472</td>\n",
       "    </tr>\n",
       "    <tr>\n",
       "      <th>2</th>\n",
       "      <td>1000003</td>\n",
       "      <td>26-35</td>\n",
       "      <td>341635</td>\n",
       "    </tr>\n",
       "    <tr>\n",
       "      <th>3</th>\n",
       "      <td>1000004</td>\n",
       "      <td>46-50</td>\n",
       "      <td>206468</td>\n",
       "    </tr>\n",
       "    <tr>\n",
       "      <th>4</th>\n",
       "      <td>1000005</td>\n",
       "      <td>26-35</td>\n",
       "      <td>821001</td>\n",
       "    </tr>\n",
       "    <tr>\n",
       "      <th>...</th>\n",
       "      <td>...</td>\n",
       "      <td>...</td>\n",
       "      <td>...</td>\n",
       "    </tr>\n",
       "    <tr>\n",
       "      <th>5886</th>\n",
       "      <td>1006036</td>\n",
       "      <td>26-35</td>\n",
       "      <td>4116058</td>\n",
       "    </tr>\n",
       "    <tr>\n",
       "      <th>5887</th>\n",
       "      <td>1006037</td>\n",
       "      <td>46-50</td>\n",
       "      <td>1119538</td>\n",
       "    </tr>\n",
       "    <tr>\n",
       "      <th>5888</th>\n",
       "      <td>1006038</td>\n",
       "      <td>55+</td>\n",
       "      <td>90034</td>\n",
       "    </tr>\n",
       "    <tr>\n",
       "      <th>5889</th>\n",
       "      <td>1006039</td>\n",
       "      <td>46-50</td>\n",
       "      <td>590319</td>\n",
       "    </tr>\n",
       "    <tr>\n",
       "      <th>5890</th>\n",
       "      <td>1006040</td>\n",
       "      <td>26-35</td>\n",
       "      <td>1653299</td>\n",
       "    </tr>\n",
       "  </tbody>\n",
       "</table>\n",
       "<p>5891 rows × 3 columns</p>\n",
       "</div>"
      ],
      "text/plain": [
       "      User_ID    Age  Purchase\n",
       "0     1000001   0-17    334093\n",
       "1     1000002    55+    810472\n",
       "2     1000003  26-35    341635\n",
       "3     1000004  46-50    206468\n",
       "4     1000005  26-35    821001\n",
       "...       ...    ...       ...\n",
       "5886  1006036  26-35   4116058\n",
       "5887  1006037  46-50   1119538\n",
       "5888  1006038    55+     90034\n",
       "5889  1006039  46-50    590319\n",
       "5890  1006040  26-35   1653299\n",
       "\n",
       "[5891 rows x 3 columns]"
      ]
     },
     "execution_count": 46,
     "metadata": {},
     "output_type": "execute_result"
    }
   ],
   "source": [
    "amt_df = df.groupby(['User_ID', 'Age'])[['Purchase']].sum()\n",
    "amt_df = amt_df.reset_index()\n",
    "amt_df"
   ]
  },
  {
   "cell_type": "code",
   "execution_count": 47,
   "id": "a6e59f4d",
   "metadata": {},
   "outputs": [
    {
     "data": {
      "text/plain": [
       "26-35    2053\n",
       "36-45    1167\n",
       "18-25    1069\n",
       "46-50     531\n",
       "51-55     481\n",
       "55+       372\n",
       "0-17      218\n",
       "Name: Age, dtype: int64"
      ]
     },
     "execution_count": 47,
     "metadata": {},
     "output_type": "execute_result"
    }
   ],
   "source": [
    "amt_df['Age'].value_counts()"
   ]
  },
  {
   "cell_type": "code",
   "execution_count": 48,
   "id": "2decf39a",
   "metadata": {},
   "outputs": [],
   "source": [
    "sample_size = 200\n",
    "num_repitions = 1000\n",
    "\n",
    "all_means = {}\n",
    "\n",
    "age_intervals = ['26-35', '36-45', '18-25', '46-50', '51-55', '55+', '0-17']\n",
    "for age_interval in age_intervals:\n",
    "    all_means[age_interval] = []\n",
    "\n",
    "for age_interval in age_intervals:\n",
    "    for _ in range(num_repitions):\n",
    "        mean = amt_df[amt_df['Age']==age_interval].sample(sample_size, replace=True)['Purchase'].mean()\n",
    "        all_means[age_interval].append(mean)"
   ]
  },
  {
   "cell_type": "code",
   "execution_count": 49,
   "id": "36286b29",
   "metadata": {},
   "outputs": [
    {
     "name": "stdout",
     "output_type": "stream",
     "text": [
      "For age 26-35 --> confidence interval of means: (945034.42, 1034284.21)\n",
      "For age 36-45 --> confidence interval of means: (823347.80, 935983.62)\n",
      "For age 18-25 --> confidence interval of means: (801632.78, 908093.46)\n",
      "For age 46-50 --> confidence interval of means: (713505.63, 871591.93)\n",
      "For age 51-55 --> confidence interval of means: (692392.43, 834009.42)\n",
      "For age 55+ --> confidence interval of means: (476948.26, 602446.23)\n",
      "For age 0-17 --> confidence interval of means: (527662.46, 710073.17)\n"
     ]
    }
   ],
   "source": [
    "for val in ['26-35', '36-45', '18-25', '46-50', '51-55', '55+', '0-17']:\n",
    "    \n",
    "    new_df = amt_df[amt_df['Age']==val] \n",
    "    \n",
    "    margin_of_error_clt = 1.96*new_df['Purchase'].std()/np.sqrt(len(new_df))\n",
    "    sample_mean = new_df['Purchase'].mean()\n",
    "    lower_lim = sample_mean - margin_of_error_clt\n",
    "    upper_lim = sample_mean + margin_of_error_clt\n",
    "\n",
    "    print(\"For age {} --> confidence interval of means: ({:.2f}, {:.2f})\".format(val, lower_lim, upper_lim))\n"
   ]
  },
  {
   "cell_type": "markdown",
   "id": "140a96a6",
   "metadata": {},
   "source": [
    "#### Insights\n",
    "*1.~ 80% of the users are between the age 18-50 (40%: 26-35, 18%: 18-25, 20%: 36-45)*\n",
    "\n",
    "*2.75% of the users are Male and 25% are Female*\n",
    "\n",
    "*3.60% Single, 40% Married*\n",
    "\n",
    "*4.35% Staying in the city from 1 year, 18% from 2 years, 17% from 3 years*\n",
    "\n",
    "*5.Total of 20 product categories are there*\n",
    "\n",
    "*6.There are 20 differnent types of occupations in the city*"
   ]
  },
  {
   "cell_type": "markdown",
   "id": "716de3b3",
   "metadata": {},
   "source": [
    "*7.Most of the users are Male*\n",
    "\n",
    "*8.There are 20 different types of Occupation and Product_Category*\n",
    "\n",
    "*9.More users belong to B City_Category*\n",
    "\n",
    "*10.More users are Single as compare to Married*\n",
    "\n",
    "*11.Product_Category - 1, 5, 8, & 11 have highest purchasing frequency.*"
   ]
  },
  {
   "cell_type": "markdown",
   "id": "2b06087f",
   "metadata": {},
   "source": [
    "*Average amount spend by Male customers: 925344.40*\n",
    "\n",
    "*Average amount spend by Female customers: 712024.39*"
   ]
  },
  {
   "cell_type": "markdown",
   "id": "a1b1fd2b",
   "metadata": {},
   "source": [
    "**Confidence Interval by Gender**\n",
    "\n",
    "*Now using the Central Limit Theorem for the population:*\n",
    "\n",
    "*1.Average amount spend by male customers is 9,26,341.86*\n",
    "\n",
    "*2.Average amount spend by female customers is 7,11,704.09*\n",
    "\n",
    "**Now we can infer about the population that, 95% of the times:**\n",
    "\n",
    "*1.Average amount spend by male customer will lie in between: (895617.83, 955070.97)*\n",
    "\n",
    "*2.Average amount spend by female customer will lie in between: (673254.77, 750794.02)*"
   ]
  },
  {
   "cell_type": "markdown",
   "id": "410905cc",
   "metadata": {},
   "source": [
    "**Confidence Interval by Marital_Status**\n",
    "\n",
    "*1.Married confidence interval of means: (806668.83, 880384.76)*\n",
    "\n",
    "*2.Unmarried confidence interval of means: (848741.18, 912410.38)*"
   ]
  },
  {
   "cell_type": "markdown",
   "id": "bf3fb734",
   "metadata": {},
   "source": [
    "**Confidence Interval by Age**\n",
    "\n",
    "*1.For age 26-35 --> confidence interval of means: (945034.42, 1034284.21)\n",
    "\n",
    "*2.For age 36-45 --> confidence interval of means: (823347.80, 935983.62)\n",
    "\n",
    "*3.For age 18-25 --> confidence interval of means: (801632.78, 908093.46)\n",
    "\n",
    "*4.For age 46-50 --> confidence interval of means: (713505.63, 871591.93)\n",
    "\n",
    "*5.For age 51-55 --> confidence interval of means: (692392.43, 834009.42)\n",
    "\n",
    "*6.For age 55+ --> confidence interval of means: (476948.26, 602446.23)\n",
    "\n",
    "*7.For age 0-17 --> confidence interval of means: (527662.46, 710073.17)"
   ]
  },
  {
   "cell_type": "markdown",
   "id": "84d07107",
   "metadata": {},
   "source": [
    "**Recommendations**\n",
    "\n",
    "*1.Men spent more money than women, So company should focus on retaining the male customers and getting more male customers.*\n",
    "\n",
    "*2.Product_Category - 1, 5, 8, & 11 have highest purchasing frequency. it means these are the products in these categories are liked more by customers. Company can focus on selling more of these products or selling more of the products which are purchased less.*\n",
    "\n",
    "*3.Unmarried customers spend more money than married customers, So company should focus on acquisition of Unmarried customers.*\n",
    "\n",
    "*4.Customers in the age 18-45 spend more money than the others, So company should focus on acquisition of customers who are in the age 18-45*\n",
    "\n",
    "*5.Male customers living in City_Category C spend more money than other male customers living in B or C, Selling more products in the City_Category C will help the company increase the revenue.*"
   ]
  },
  {
   "cell_type": "code",
   "execution_count": null,
   "id": "a915770b",
   "metadata": {},
   "outputs": [],
   "source": []
  }
 ],
 "metadata": {
  "kernelspec": {
   "display_name": "Python 3 (ipykernel)",
   "language": "python",
   "name": "python3"
  },
  "language_info": {
   "codemirror_mode": {
    "name": "ipython",
    "version": 3
   },
   "file_extension": ".py",
   "mimetype": "text/x-python",
   "name": "python",
   "nbconvert_exporter": "python",
   "pygments_lexer": "ipython3",
   "version": "3.9.12"
  }
 },
 "nbformat": 4,
 "nbformat_minor": 5
}
